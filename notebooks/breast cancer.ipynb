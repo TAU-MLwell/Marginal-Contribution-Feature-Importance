{
 "cells": [
  {
   "cell_type": "markdown",
   "metadata": {},
   "source": [
    "# run example for UCI breast cancer dataset"
   ]
  },
  {
   "cell_type": "code",
   "execution_count": 9,
   "metadata": {},
   "outputs": [
    {
     "name": "stdout",
     "output_type": "stream",
     "text": [
      "Processing c:\\users\\amnoncatav\\pycharmprojects\\mci\n",
      "Requirement already satisfied: numpy in c:\\users\\amnoncatav\\appdata\\roaming\\python\\python37\\site-packages (from MCI==0.1.1) (1.20.3)\n",
      "Requirement already satisfied: matplotlib in c:\\users\\amnoncatav\\appdata\\roaming\\python\\python37\\site-packages (from MCI==0.1.1) (3.4.2)\n",
      "Requirement already satisfied: scipy in c:\\users\\amnoncatav\\pycharmprojects\\mci\\venv\\lib\\site-packages (from MCI==0.1.1) (1.6.3)\n",
      "Requirement already satisfied: sklearn in c:\\users\\amnoncatav\\pycharmprojects\\mci\\venv\\lib\\site-packages (from MCI==0.1.1) (0.0)\n",
      "Requirement already satisfied: tqdm in c:\\users\\amnoncatav\\pycharmprojects\\mci\\venv\\lib\\site-packages (from MCI==0.1.1) (4.60.0)\n",
      "Requirement already satisfied: pandas in c:\\users\\amnoncatav\\pycharmprojects\\mci\\venv\\lib\\site-packages (from MCI==0.1.1) (1.2.4)\n",
      "Requirement already satisfied: python-dateutil>=2.7 in c:\\users\\amnoncatav\\appdata\\roaming\\python\\python37\\site-packages (from matplotlib->MCI==0.1.1) (2.8.1)\n",
      "Requirement already satisfied: pillow>=6.2.0 in c:\\users\\amnoncatav\\appdata\\roaming\\python\\python37\\site-packages (from matplotlib->MCI==0.1.1) (8.2.0)\n",
      "Requirement already satisfied: cycler>=0.10 in c:\\users\\amnoncatav\\appdata\\roaming\\python\\python37\\site-packages (from matplotlib->MCI==0.1.1) (0.10.0)\n",
      "Requirement already satisfied: pyparsing>=2.2.1 in c:\\users\\amnoncatav\\appdata\\roaming\\python\\python37\\site-packages (from matplotlib->MCI==0.1.1) (2.4.7)\n",
      "Requirement already satisfied: kiwisolver>=1.0.1 in c:\\users\\amnoncatav\\appdata\\roaming\\python\\python37\\site-packages (from matplotlib->MCI==0.1.1) (1.3.1)\n",
      "Requirement already satisfied: six in c:\\users\\amnoncatav\\appdata\\roaming\\python\\python37\\site-packages (from cycler>=0.10->matplotlib->MCI==0.1.1) (1.16.0)\n",
      "Requirement already satisfied: pytz>=2017.3 in c:\\users\\amnoncatav\\pycharmprojects\\mci\\venv\\lib\\site-packages (from pandas->MCI==0.1.1) (2021.1)\n",
      "Requirement already satisfied: scikit-learn in c:\\users\\amnoncatav\\pycharmprojects\\mci\\venv\\lib\\site-packages (from sklearn->MCI==0.1.1) (0.24.2)\n",
      "Requirement already satisfied: threadpoolctl>=2.0.0 in c:\\users\\amnoncatav\\pycharmprojects\\mci\\venv\\lib\\site-packages (from scikit-learn->sklearn->MCI==0.1.1) (2.1.0)\n",
      "Requirement already satisfied: joblib>=0.11 in c:\\users\\amnoncatav\\pycharmprojects\\mci\\venv\\lib\\site-packages (from scikit-learn->sklearn->MCI==0.1.1) (1.0.1)\n",
      "Using legacy 'setup.py install' for MCI, since package 'wheel' is not installed.\n",
      "Installing collected packages: MCI\n",
      "  Attempting uninstall: MCI\n",
      "    Found existing installation: MCI 0.1.0\n",
      "    Uninstalling MCI-0.1.0:\n",
      "      Successfully uninstalled MCI-0.1.0\n",
      "    Running setup.py install for MCI: started\n",
      "    Running setup.py install for MCI: finished with status 'done'\n",
      "Successfully installed MCI-0.1.1\n"
     ]
    },
    {
     "name": "stderr",
     "output_type": "stream",
     "text": [
      "  DEPRECATION: A future pip version will change local packages to be built in-place without first copying to a temporary directory. We recommend you use --use-feature=in-tree-build to test your packages with this new behavior before it becomes the default.\n",
      "   pip 21.3 will remove support for this functionality. You can find discussion regarding this at https://github.com/pypa/pip/issues/7555.\n"
     ]
    }
   ],
   "source": [
    "!pip install .."
   ]
  },
  {
   "cell_type": "code",
   "execution_count": 10,
   "metadata": {},
   "outputs": [],
   "source": [
    "from sklearn.datasets import load_breast_cancer\n",
    "from sklearn.ensemble import GradientBoostingClassifier\n",
    "from mci.evaluators.sklearn_evaluator import SklearnEvaluator\n",
    "from mci.estimators.permutation_samplling import PermutationSampling"
   ]
  },
  {
   "cell_type": "code",
   "execution_count": 11,
   "metadata": {},
   "outputs": [],
   "source": [
    "X, y = load_breast_cancer(return_X_y=True, as_frame=True)"
   ]
  },
  {
   "cell_type": "code",
   "execution_count": 12,
   "metadata": {},
   "outputs": [
    {
     "ename": "TypeError",
     "evalue": "__init__() missing 1 required positional argument: 'out_dir'",
     "output_type": "error",
     "traceback": [
      "\u001b[1;31m---------------------------------------------------------------------------\u001b[0m",
      "\u001b[1;31mTypeError\u001b[0m                                 Traceback (most recent call last)",
      "\u001b[1;32m<ipython-input-12-2507097d6cc5>\u001b[0m in \u001b[0;36m<module>\u001b[1;34m\u001b[0m\n\u001b[0;32m      1\u001b[0m \u001b[0mmodel\u001b[0m \u001b[1;33m=\u001b[0m \u001b[0mGradientBoostingClassifier\u001b[0m\u001b[1;33m(\u001b[0m\u001b[1;33m)\u001b[0m\u001b[1;33m\u001b[0m\u001b[1;33m\u001b[0m\u001b[0m\n\u001b[0;32m      2\u001b[0m \u001b[0mevaluator\u001b[0m \u001b[1;33m=\u001b[0m \u001b[0mSklearnEvaluator\u001b[0m\u001b[1;33m(\u001b[0m\u001b[0mmodel\u001b[0m\u001b[1;33m)\u001b[0m\u001b[1;33m\u001b[0m\u001b[1;33m\u001b[0m\u001b[0m\n\u001b[1;32m----> 3\u001b[1;33m \u001b[0mmci_estimator\u001b[0m \u001b[1;33m=\u001b[0m \u001b[0mPermutationSampling\u001b[0m\u001b[1;33m(\u001b[0m\u001b[0mevaluator\u001b[0m\u001b[1;33m,\u001b[0m \u001b[0mn_permutations\u001b[0m\u001b[1;33m=\u001b[0m\u001b[1;36m2\u001b[0m\u001b[1;33m**\u001b[0m\u001b[1;36m5\u001b[0m\u001b[1;33m)\u001b[0m\u001b[1;33m\u001b[0m\u001b[1;33m\u001b[0m\u001b[0m\n\u001b[0m",
      "\u001b[1;31mTypeError\u001b[0m: __init__() missing 1 required positional argument: 'out_dir'"
     ]
    }
   ],
   "source": [
    "model = GradientBoostingClassifier()\n",
    "evaluator = SklearnEvaluator(model)\n",
    "mci_estimator = PermutationSampling(evaluator, n_permutations=2**5)"
   ]
  },
  {
   "cell_type": "code",
   "execution_count": 5,
   "metadata": {},
   "outputs": [
    {
     "name": "stdout",
     "output_type": "stream",
     "text": [
      "loading results checkpoint from temp\\32.json\n"
     ]
    }
   ],
   "source": [
    "score = mci_estimator.mci_values(X, y)"
   ]
  },
  {
   "cell_type": "code",
   "execution_count": 12,
   "metadata": {},
   "outputs": [
    {
     "data": {
      "text/plain": [
       "[0.29884897428757073,\n",
       " 0.0685045948203844,\n",
       " 0.2689687180915251,\n",
       " 0.005291005291005235,\n",
       " 0.012271419288963248,\n",
       " 0.1300473405736563,\n",
       " 0.21621646709366005,\n",
       " 0.24430520746310225,\n",
       " 0.056223893065998176,\n",
       " 0.06507936507936507,\n",
       " 0.16349206349206347,\n",
       " 0.02287199480181945,\n",
       " 0.1565023670286827,\n",
       " 0.2249791144527986,\n",
       " 0.014044370184721156,\n",
       " 0.014072217580989421,\n",
       " 0.06498654042513685,\n",
       " 0.10556947925368965,\n",
       " 0.010479903462359608,\n",
       " 0.024589250905040383,\n",
       " 0.10197716513505983,\n",
       " 0.09125591757170715,\n",
       " 0.22147034252297404,\n",
       " 0.300556947925369,\n",
       " 0.04916921934465801,\n",
       " 0.10360159658405266,\n",
       " 0.0475169404993967,\n",
       " 0.2653949689037408,\n",
       " 0.12301123178316165,\n",
       " 0.03337046319502457]"
      ]
     },
     "execution_count": 12,
     "metadata": {},
     "output_type": "execute_result"
    }
   ],
   "source": []
  }
 ],
 "metadata": {
  "kernelspec": {
   "display_name": "Python 3",
   "language": "python",
   "name": "python3"
  },
  "language_info": {
   "codemirror_mode": {
    "name": "ipython",
    "version": 3
   },
   "file_extension": ".py",
   "mimetype": "text/x-python",
   "name": "python",
   "nbconvert_exporter": "python",
   "pygments_lexer": "ipython3",
   "version": "3.7.3"
  }
 },
 "nbformat": 4,
 "nbformat_minor": 2
}
